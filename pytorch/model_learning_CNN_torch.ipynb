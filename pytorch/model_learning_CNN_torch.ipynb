{
 "cells": [
  {
   "cell_type": "markdown",
   "metadata": {},
   "source": [
    "# 15文字カタカナ判別モデル"
   ]
  },
  {
   "cell_type": "code",
   "execution_count": 7,
   "metadata": {
    "id": "eMW6Cshl3ZeN",
    "outputId": "9b0fceda-1d54-46e7-e3b7-d713b9cba44c"
   },
   "outputs": [],
   "source": [
    "import numpy as np\n",
    "from sklearn.model_selection import train_test_split\n",
    "import torch\n",
    "import torchvision\n",
    "import torchvision.transforms as transforms\n",
    "from torch.utils.data import TensorDataset, DataLoader\n",
    "import torch.nn as nn\n",
    "import torch.nn.functional as F\n",
    "from torchsummary import summary\n",
    "import matplotlib.pyplot as plt\n",
    "%matplotlib inline"
   ]
  },
  {
   "cell_type": "markdown",
   "metadata": {},
   "source": [
    "## データの読み込み"
   ]
  },
  {
   "cell_type": "code",
   "execution_count": 8,
   "metadata": {},
   "outputs": [],
   "source": [
    "train_data = np.load(\"../data/train_data.npy\")\n",
    "train_label = np.load(\"../data/train_label.npy\")"
   ]
  },
  {
   "cell_type": "code",
   "execution_count": 9,
   "metadata": {},
   "outputs": [
    {
     "name": "stdout",
     "output_type": "stream",
     "text": [
      "train_data.shape= (3000, 784)\n"
     ]
    }
   ],
   "source": [
    "# 正規化\n",
    "train_data = (train_data - train_data.min()) / train_data.max()\n",
    "train_data = train_data.astype('float32')\n",
    "\n",
    "train_data = train_data.reshape(-1, 28*28) # 配列形式変更\n",
    "print(\"train_data.shape=\", train_data.shape)"
   ]
  },
  {
   "cell_type": "code",
   "execution_count": 10,
   "metadata": {},
   "outputs": [],
   "source": [
    "# データ分割\n",
    "train, test, train_labels, test_labels = train_test_split(train_data, train_label, test_size=0.3,shuffle=True) \n",
    "train = train.reshape(-1, 1, 28, 28)\n",
    "test = test.reshape(-1, 1, 28, 28)"
   ]
  },
  {
   "cell_type": "code",
   "execution_count": 11,
   "metadata": {},
   "outputs": [
    {
     "data": {
      "text/plain": [
       "torch.Size([2100, 1, 28, 28])"
      ]
     },
     "execution_count": 11,
     "metadata": {},
     "output_type": "execute_result"
    }
   ],
   "source": [
    "# テンソル型に変換\n",
    "train = torch.from_numpy(train).float()\n",
    "test = torch.from_numpy(test).float()\n",
    "train_labels = torch.from_numpy(train_labels).float()\n",
    "test_labels = torch.from_numpy(test_labels).float()\n",
    "\n",
    "train.size()"
   ]
  },
  {
   "cell_type": "code",
   "execution_count": 12,
   "metadata": {},
   "outputs": [],
   "source": [
    "# DataLoaderへ渡すためにTensorDatasetを作成\n",
    "train_dataset = TensorDataset(train, train_labels)\n",
    "test_dataset = TensorDataset(test, test_labels)\n",
    "\n",
    "# DataLoaderによりPyTorchモデルへデータを適用できる\n",
    "batch_size = 32\n",
    "train_loader = DataLoader(train_dataset, batch_size=batch_size, shuffle=True)\n",
    "test_loader = DataLoader(test_dataset, batch_size=batch_size, shuffle=False)"
   ]
  },
  {
   "cell_type": "markdown",
   "metadata": {},
   "source": [
    "## ミニバッチ学習"
   ]
  },
  {
   "cell_type": "code",
   "execution_count": 13,
   "metadata": {},
   "outputs": [],
   "source": [
    "class DefineNN(nn.Module):\n",
    "    \"\"\"\n",
    "    畳み込み層 : 三層\n",
    "    全ての活性化関数の前にバッチ正規化\n",
    "    \"\"\"\n",
    "    def __init__(self):\n",
    "        # nn.Moduleを継承\n",
    "        super(DefineNN, self).__init__()\n",
    "        \n",
    "        # 畳み込み層   \n",
    "        # Conv2d(画像のチャンネル数, 出力のチャンネル数, kernel_size(filter_num), stride=1, padding=0)\n",
    "        self.conv_layers1 = nn.Sequential(nn.Conv2d(in_channels=1, out_channels=32, kernel_size=5),\n",
    "                                         nn.BatchNorm2d(32),\n",
    "                                         nn.ReLU(),\n",
    "                                         nn.MaxPool2d(2, 2)\n",
    "                                        )\n",
    "\n",
    "        self.conv_layers2 = nn.Sequential(nn.Conv2d(in_channels=32, out_channels=64, kernel_size=3),\n",
    "                                         nn.BatchNorm2d(64),\n",
    "                                         nn.ReLU(),\n",
    "                                         nn.MaxPool2d(2, 2)\n",
    "                                        )\n",
    "\n",
    "        self.conv_layers3 = nn.Sequential(nn.Conv2d(in_channels=64, out_channels=64, kernel_size=3),\n",
    "                                         nn.BatchNorm2d(64),\n",
    "                                         nn.ReLU(),\n",
    "                                         nn.MaxPool2d(2, 2)\n",
    "                                        )\n",
    "        \n",
    "        # 全結合層\n",
    "        # Linear(input_size, output_size(hidden_size))\n",
    "        self.fc1 = nn.Linear(64, 100)\n",
    "        self.batchnorm = nn.BatchNorm1d(100)\n",
    "        self.fc2 = nn.Linear(100, 15)\n",
    "        \n",
    "        \n",
    "    # ネットワーク構成を記述\n",
    "    # ユニット数と活性化関数を決定\n",
    "    def forward(self, x):\n",
    "        # 畳み込み・プーリング処理\n",
    "        x = self.conv_layers1(x)\n",
    "        x = self.conv_layers2(x)\n",
    "        x = self.conv_layers3(x) \n",
    "            \n",
    "        # 列数がpool_output_pixelの形のtensorになるように変形\n",
    "        x = x.view(-1, 64)\n",
    "        # reluによるアクティベーション\n",
    "        x = self.fc1(x)\n",
    "        x = F.relu(self.batchnorm(x))\n",
    "        out = self.fc2(x)\n",
    "        return out"
   ]
  },
  {
   "cell_type": "code",
   "execution_count": 14,
   "metadata": {
    "scrolled": true
   },
   "outputs": [
    {
     "name": "stdout",
     "output_type": "stream",
     "text": [
      "epoch=0\n",
      "epoch=1\n",
      "epoch=2\n",
      "epoch=3\n",
      "epoch=4\n",
      "epoch=5\n",
      "epoch=6\n",
      "epoch=7\n",
      "epoch=8\n",
      "epoch=9\n",
      "epoch=10\n",
      "epoch=11\n",
      "epoch=12\n",
      "epoch=13\n",
      "epoch=14\n",
      "epoch=15\n",
      "epoch=16\n",
      "epoch=17\n",
      "epoch=18\n",
      "epoch=19\n"
     ]
    }
   ],
   "source": [
    "epochs = 20\n",
    "\n",
    "loss_history = []\n",
    "total_loss = 0\n",
    "\n",
    "# データ拡張用\n",
    "transform = transforms.Compose([\n",
    "    # RandomAffine(回転、水平移動(縦, 横)、せん断(縦, 横)、空白輝度(R. G, B))\n",
    "    transforms.RandomAffine(degrees=(-5, 5), translate=(0.0, 0.2), shear=(0, 5), fill=(1.)),\n",
    "])\n",
    "\n",
    "# CNNのオブジェクト生成\n",
    "model = DefineNN()\n",
    "\n",
    "# オプティマイザと損失関数を定義\n",
    "optimizer = torch.optim.Adam(model.parameters(), lr=1e-3)\n",
    "criterion = nn.CrossEntropyLoss()\n",
    "\n",
    "# モデルを学習モードにする\n",
    "model.train()\n",
    "\n",
    "for epoch in range(epochs):\n",
    "    print(\"epoch=%s\"%epoch)\n",
    "    for data in train_loader:\n",
    "        \n",
    "        # loaderから得られるデータ data は[入力画像, ラベル]のタプル\n",
    "        X_load, y_load = data\n",
    "        # データ拡張の適用\n",
    "        X_load = transform(X_load)\n",
    "        # この時点での予測結果＝順伝播の計算\n",
    "        y_pred = model(X_load)     \n",
    "        # 損失を算出\n",
    "        loss = criterion(y_pred, y_load)\n",
    "\n",
    "        # 勾配を初期化\n",
    "        optimizer.zero_grad()\n",
    "        # 勾配を逆伝播\n",
    "        loss.backward()\n",
    "        # 逆伝播をもとにモデルのパラメータを更新\n",
    "        optimizer.step()\n",
    "        # total_lossへ加算代入\n",
    "        total_loss += loss.item()\n",
    "        \n",
    "    # 1エポック毎の損失を計算\n",
    "    loss_history.append(total_loss)\n",
    "    total_loss = 0"
   ]
  },
  {
   "cell_type": "code",
   "execution_count": 15,
   "metadata": {},
   "outputs": [
    {
     "data": {
      "image/png": "[encoded data removed]",
      "text/plain": [
       "<Figure size 640x480 with 1 Axes>"
      ]
     },
     "metadata": {},
     "output_type": "display_data"
    }
   ],
   "source": [
    "plt.plot(loss_history, label=\"Loss Curve\")\n",
    "plt.xlabel(\"Epoch\")\n",
    "plt.ylabel(\"Loss\")\n",
    "plt.title(\"Loss curve per 1 epoch\")\n",
    "plt.legend();"
   ]
  },
  {
   "cell_type": "code",
   "execution_count": 16,
   "metadata": {
    "scrolled": false
   },
   "outputs": [
    {
     "name": "stdout",
     "output_type": "stream",
     "text": [
      "Accuracy of     a : 100 %\n",
      "Accuracy of     i : 96 %\n",
      "Accuracy of     u : 98 %\n",
      "Accuracy of     e : 90 %\n",
      "Accuracy of     o : 100 %\n",
      "Accuracy of    ka : 90 %\n",
      "Accuracy of    ki : 96 %\n",
      "Accuracy of    ku : 98 %\n",
      "Accuracy of    ke : 70 %\n",
      "Accuracy of    ko : 92 %\n",
      "Accuracy of    sa : 89 %\n",
      "Accuracy of    si : 96 %\n",
      "Accuracy of    su : 96 %\n",
      "Accuracy of    se : 84 %\n",
      "Accuracy of    so : 98 %\n",
      "Mean Accuracy : 93 %\n"
     ]
    }
   ],
   "source": [
    "# 確認用の辞書を作成\n",
    "classes = {0:\"a\",1:\"i\",2:\"u\",3:\"e\",4:\"o\",5:\"ka\",6:\"ki\",7:\"ku\",8:\"ke\",9:\"ko\",10:\"sa\",11:\"si\",12:\"su\",13:\"se\",14:\"so\"}\n",
    "\n",
    "# モデルを評価モードにし，パラメータの更新をさせないようにする\n",
    "model.eval()\n",
    "\n",
    "# 正解クラスのリスト\n",
    "class_correct = [0] * 15\n",
    "class_total = [0] * 15\n",
    "\n",
    "# loaderからデータをロード\n",
    "for data in test_loader:\n",
    "    # 入力画像とラベルに分割\n",
    "    images, labels = data\n",
    "    # テストデータに対して結果を示す\n",
    "    outputs = model(images)\n",
    "    # 最も確率の高い値のindexを返す，つまり，モデルの予測結果を返す\n",
    "    _, predicted = torch.max(outputs, 1)\n",
    "    # 予測結果が正解ラベルと同じであればTrueを返すような2次元配列を生成\n",
    "    c = (predicted == torch.argmax(labels, dim=1))\n",
    "    # 正解数と全体数のカウント\n",
    "    if labels.size(0) == batch_size:    \n",
    "        for i in range(batch_size):\n",
    "            label = torch.argmax(labels[i])\n",
    "            class_correct[label] += c[i].item()\n",
    "            class_total[label] += 1\n",
    "            \n",
    "    # 余ったバッチ\n",
    "    elif labels.size(0) != batch_size:\n",
    "        for i in range(labels.size(0)):\n",
    "            label = torch.argmax(labels[i])\n",
    "            class_correct[label] += c[i].item()\n",
    "            class_total[label] += 1\n",
    "\n",
    "# 各ラベルにおけるAccuracyを算出\n",
    "for i in range(15):\n",
    "    print('Accuracy of %5s : %2d %%' % (\n",
    "        classes[i], 100 * class_correct[i] / class_total[i]))\n",
    "\n",
    "# 全ラベルにおけるAccuracyを算出\n",
    "print('Mean Accuracy : %2d %%' % (100 * sum(class_correct) / sum(class_total)))"
   ]
  },
  {
   "cell_type": "code",
   "execution_count": 17,
   "metadata": {},
   "outputs": [
    {
     "name": "stdout",
     "output_type": "stream",
     "text": [
      "----------------------------------------------------------------\n",
      "        Layer (type)               Output Shape         Param #\n",
      "================================================================\n",
      "            Conv2d-1           [-1, 32, 24, 24]             832\n",
      "       BatchNorm2d-2           [-1, 32, 24, 24]              64\n",
      "              ReLU-3           [-1, 32, 24, 24]               0\n",
      "         MaxPool2d-4           [-1, 32, 12, 12]               0\n",
      "            Conv2d-5           [-1, 64, 10, 10]          18,496\n",
      "       BatchNorm2d-6           [-1, 64, 10, 10]             128\n",
      "              ReLU-7           [-1, 64, 10, 10]               0\n",
      "         MaxPool2d-8             [-1, 64, 5, 5]               0\n",
      "            Conv2d-9             [-1, 64, 3, 3]          36,928\n",
      "      BatchNorm2d-10             [-1, 64, 3, 3]             128\n",
      "             ReLU-11             [-1, 64, 3, 3]               0\n",
      "        MaxPool2d-12             [-1, 64, 1, 1]               0\n",
      "           Linear-13                  [-1, 100]           6,500\n",
      "      BatchNorm1d-14                  [-1, 100]             200\n",
      "           Linear-15                   [-1, 15]           1,515\n",
      "================================================================\n",
      "Total params: 64,791\n",
      "Trainable params: 64,791\n",
      "Non-trainable params: 0\n",
      "----------------------------------------------------------------\n",
      "Input size (MB): 0.00\n",
      "Forward/backward pass size (MB): 0.63\n",
      "Params size (MB): 0.25\n",
      "Estimated Total Size (MB): 0.88\n",
      "----------------------------------------------------------------\n"
     ]
    }
   ],
   "source": [
    "# summary(model, input_dim)\n",
    "summary(model, (1, 28, 28))"
   ]
  },
  {
   "cell_type": "code",
   "execution_count": null,
   "metadata": {},
   "outputs": [],
   "source": []
  }
 ],
 "metadata": {
  "kernelspec": {
   "display_name": "Python 3 (ipykernel)",
   "language": "python",
   "name": "python3"
  },
  "language_info": {
   "codemirror_mode": {
    "name": "ipython",
    "version": 3
   },
   "file_extension": ".py",
   "mimetype": "text/x-python",
   "name": "python",
   "nbconvert_exporter": "python",
   "pygments_lexer": "ipython3",
   "version": "3.8.13"
  }
 },
 "nbformat": 4,
 "nbformat_minor": 2
}
